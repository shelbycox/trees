{
 "cells": [
  {
   "cell_type": "markdown",
   "id": "cf898fe8",
   "metadata": {},
   "source": [
    "# General Notes\n",
    "\n",
    "When we refer to \"trees\" we mean equidistant metric trees, unless otherwise stated."
   ]
  },
  {
   "cell_type": "code",
   "execution_count": 1,
   "id": "700f5cd5",
   "metadata": {},
   "outputs": [],
   "source": [
    "import operator"
   ]
  },
  {
   "cell_type": "markdown",
   "id": "9f93a55e",
   "metadata": {},
   "source": [
    "## normalize_heights\n",
    "\n",
    "### Description\n",
    "\n",
    "Given a list of metric trees *L* and a number *h*, normalize_heights(L,h) returns the list of trees, with all their heights ajusted to be *h*.\n",
    "\n",
    "Specifically, the method finds the current height of the tree and subtracts the difference between the current height and h from each dictionary entry.\n",
    "\n",
    "### Variables\n",
    "\n",
    "*L* is a list of trees, given as a dictionary metrics on their leaves\n",
    "\n",
    "*h* is a number, the height to normalize the trees to\n",
    "\n"
   ]
  },
  {
   "cell_type": "code",
   "execution_count": 1,
   "id": "173ae5c5",
   "metadata": {},
   "outputs": [],
   "source": [
    "def normalize_heights(L, h):\n",
    "    for t in L:\n",
    "        tree_height = max([t[k] for k in t.keys()])\n",
    "        adjust = tree_height - h\n",
    "        for k in t.keys():\n",
    "            t[k] = t[k] - adjust\n",
    "    \n",
    "    return L"
   ]
  },
  {
   "cell_type": "markdown",
   "id": "c883c53e",
   "metadata": {},
   "source": [
    "## get_tropical_line\n",
    "\n",
    "### Description\n",
    "\n",
    "Given two trees *u*, *v*, get_tropical_line(u,v) returns a list of trees (encoded as dictionary metrics on their leaves) which are (in sequence) the possible turning points on the tropical line from *u* to *v* in the space of ultrametrics. There may be repeats.\n",
    "\n",
    "### Variables\n",
    "\n",
    "*u, v* are trees given as a dictionary metric on their leaves."
   ]
  },
  {
   "cell_type": "code",
   "execution_count": 4,
   "id": "a85e4ba1",
   "metadata": {},
   "outputs": [],
   "source": [
    "def get_tropical_line(u, v, recMu=False):\n",
    "    try:\n",
    "        mu = sorted([u[k] - v[k] for k in u.keys()])\n",
    "        L = [u]\n",
    "        for scalar in mu:\n",
    "            if recMu:\n",
    "                L.append(({k : max(scalar + v[k], u[k]) for k in u.keys()}, scalar))\n",
    "            else:\n",
    "                L.append({k : max(scalar + v[k], u[k]) for k in u.keys()})\n",
    "        L.append(v)\n",
    "        return L\n",
    "    \n",
    "    except KeyError:\n",
    "        print('Error: u, v must be trees on the same leaves.')"
   ]
  },
  {
   "cell_type": "markdown",
   "id": "4940bcaa",
   "metadata": {},
   "source": [
    "## argmaxm\n",
    "\n",
    "### Description\n",
    "\n",
    "Returns a list of lists encoding the argmax function on *u*. The argmax function takes an integer *i* and returns the set of pairs of leaves that achieve the *i*th largest distance in the metric. Thus, the *i*th entry of the returned list is argmax{u}{i}.\n",
    "\n",
    "### Variables\n",
    "\n",
    "*u* is a metric dictionary tree on its leaves."
   ]
  },
  {
   "cell_type": "code",
   "execution_count": 2,
   "id": "708c8744",
   "metadata": {},
   "outputs": [],
   "source": [
    "def argmaxm(u):\n",
    "    values = sorted(list(set(u.values())))\n",
    "    return [[k for (k,v) in u.items() if v == values[-i]] for i in range(1,len(values)+1)]"
   ]
  },
  {
   "cell_type": "markdown",
   "id": "ea0f3eb3",
   "metadata": {},
   "source": [
    "## compare_trees\n",
    "\n",
    "### Description\n",
    "\n",
    "Determines if two trees *u*, *v* have the same tree topology. If they have the same tree topology, return True, otherwise return False.\n",
    "\n",
    "### Variables\n",
    "\n",
    "*u,v* are trees given as metric dictionaries on their leaves."
   ]
  },
  {
   "cell_type": "code",
   "execution_count": null,
   "id": "47822aca",
   "metadata": {},
   "outputs": [],
   "source": [
    "def compare_trees(u, v):\n",
    "    u_arg = argmaxm(u)\n",
    "    v_arg = argmaxm(v)\n",
    "\n",
    "    for i in range(len(u_arg)):\n",
    "        try:\n",
    "            if u_arg[i] != v_arg[i]:\n",
    "                return False\n",
    "        except KeyError:\n",
    "            return False"
   ]
  },
  {
   "cell_type": "markdown",
   "id": "7df5c482",
   "metadata": {},
   "source": [
    "## reduce_line\n",
    "\n",
    "### Description\n",
    "\n",
    "### Variables"
   ]
  },
  {
   "cell_type": "code",
   "execution_count": 3,
   "id": "bc80c5bd",
   "metadata": {},
   "outputs": [],
   "source": [
    "def reduce_line(L):\n",
    "    line = L.copy\n",
    "    i = 0\n",
    "    while i < len(line) - 1:\n",
    "        if type(line[0]) == tuple:\n",
    "            ##get to this case if we are recording other information for each tree in the line \n",
    "            if compare_trees(line[i][0], line[i+1][0]):\n",
    "                ##the trees are the same, so remove the first one\n",
    "                line.pop(i)\n",
    "                ##stay on the same index\n",
    "                i = i - 1\n",
    "        ##get to this case if we are just recording the trees in the line, no other info\n",
    "        elif compare_trees(line[i], line[i+1]):\n",
    "            ##the trees are the same, so remove the first one\n",
    "                line.pop(i)\n",
    "                ##stay on the same index\n",
    "                i = i - 1\n",
    "        i = i + 1"
   ]
  },
  {
   "cell_type": "markdown",
   "id": "ebc5e437",
   "metadata": {},
   "source": [
    "## get_line_int\n",
    "\n",
    "### Description\n",
    "\n",
    "### Variables"
   ]
  },
  {
   "cell_type": "code",
   "execution_count": 5,
   "id": "0cbbb272",
   "metadata": {},
   "outputs": [],
   "source": [
    "def get_line_int(u,v):\n",
    "    ##get the reduced tropical line from u to v\n",
    "    line = reduce_line(get_tropical_line(u,v,True))\n",
    "    \n",
    "    mu = [line[0][1]]\n",
    "    for i in range(1,len(line)):\n",
    "        mu.append((line[i][1] + line[i-1][1])/2)\n",
    "        mu.append(line[i][1])\n",
    "    \n",
    "    return [{k : max(m + u[k], v[k]) for k in u.keys()} for m in mu]"
   ]
  },
  {
   "cell_type": "markdown",
   "id": "e27775f3",
   "metadata": {},
   "source": [
    "## left_right_split\n",
    "\n",
    "### Description\n",
    "\n",
    "Now I actually have no idea how this works... :(\n",
    "\n",
    "### Variables\n",
    "\n",
    "*a* defines the subbranch being split"
   ]
  },
  {
   "cell_type": "code",
   "execution_count": 6,
   "id": "106a792d",
   "metadata": {},
   "outputs": [],
   "source": [
    "def left_right_split(leaves, a):\n",
    "    left = [leaves[0]]\n",
    "    right = []\n",
    "    \n",
    "    i = leaves[0]\n",
    "    for k in range(1, len(leaves)):\n",
    "        if (i,j) in a:\n",
    "            right.append(j)\n",
    "        else:\n",
    "            left.append(j)\n",
    "    \n",
    "    return left, right, len(right) == 0"
   ]
  },
  {
   "cell_type": "markdown",
   "id": "3e97ae12",
   "metadata": {},
   "source": [
    "## tree_rest\n",
    "\n",
    "### Description\n",
    "\n",
    "### Parameters\n",
    "\n",
    "### Returns"
   ]
  },
  {
   "cell_type": "code",
   "execution_count": 7,
   "id": "703532aa",
   "metadata": {},
   "outputs": [],
   "source": [
    "def tree_rest(u, leaves):\n",
    "    return {(i,j) : u[(i,j)] for (i,j) in u.keys() if i in leaves and j in leaves}"
   ]
  },
  {
   "cell_type": "markdown",
   "id": "c859f75c",
   "metadata": {},
   "source": [
    "## rec_tree_paren\n",
    "\n",
    "### Description\n",
    "\n",
    "### Parameters\n",
    "\n",
    "### Returns"
   ]
  },
  {
   "cell_type": "code",
   "execution_count": 8,
   "id": "34d3e333",
   "metadata": {},
   "outputs": [],
   "source": [
    "def rec_tree_paren(u, leaves):\n",
    "    ##if there's just two leaves left, they're as close as they can get\n",
    "    if len(leaves) < 3:\n",
    "        return leaves\n",
    "    \n",
    "    ##split at the highest branches of the current (sub)tree\n",
    "    branches = split(leaves, argmaxm(u)[0])\n",
    "    \n",
    "    ##regard each branch as its own tree\n",
    "    rests = [tree_rest(u, b) for b in branches]\n",
    "    \n",
    "    return [rec_tree_paren(rests[i], branches[i]) for i in range(len(branches))]"
   ]
  },
  {
   "cell_type": "markdown",
   "id": "1eb8c656",
   "metadata": {},
   "source": [
    "## split\n",
    "\n",
    "### Description\n",
    "\n",
    "### Variables"
   ]
  },
  {
   "cell_type": "code",
   "execution_count": null,
   "id": "052b2bd2",
   "metadata": {},
   "outputs": [],
   "source": [
    "def split(leaves, a):\n",
    "    done = False\n",
    "    while done == False:\n",
    "        ##left = leftmost branch, right = everything else,\n",
    "        ##done = True only if right is itself a branch\n",
    "        left, right, done = leftRightSplit(leaves, a)\n",
    "        \n",
    "        ##add the leftmost branch to the list of splits\n",
    "        splits.append(left)\n",
    "        \n",
    "        ##then try to split the right again\n",
    "        leaves = right\n",
    "        \n",
    "    return splits"
   ]
  },
  {
   "cell_type": "markdown",
   "id": "69ac8484",
   "metadata": {},
   "source": [
    "## print_path\n",
    "\n",
    "### Description\n",
    "\n",
    "### Variables"
   ]
  },
  {
   "cell_type": "code",
   "execution_count": null,
   "id": "c98a4273",
   "metadata": {},
   "outputs": [],
   "source": [
    "def print_path(u,v):\n",
    "    line = reduce_line(get_tropical_line(u,v))\n",
    "    for T in line:\n",
    "        print(rec_tree_paren(T, list(set([i for (i,j) in T.keys()]))))"
   ]
  },
  {
   "cell_type": "markdown",
   "id": "4d0bf6d3",
   "metadata": {},
   "source": [
    "## get_fine_codim\n",
    "\n",
    "### Description\n",
    "\n",
    "### Parameters\n",
    "\n",
    "### Returns"
   ]
  },
  {
   "cell_type": "code",
   "execution_count": 9,
   "id": "8e4f0eec",
   "metadata": {},
   "outputs": [],
   "source": [
    "def get_fine_codim(u):\n",
    "    l = len(argmaxm(u))\n",
    "    n_leaves = max([i for (i,j) in u.keys()])\n",
    "    return n_leaves - 1 - l"
   ]
  },
  {
   "cell_type": "markdown",
   "id": "e0796ec0",
   "metadata": {},
   "source": [
    "## get_heights\n",
    "\n",
    "### Description\n",
    "\n",
    "### Parameters\n",
    "\n",
    "### Returns"
   ]
  },
  {
   "cell_type": "code",
   "execution_count": 2,
   "id": "ce265c84",
   "metadata": {},
   "outputs": [],
   "source": [
    "def get_heights(u):\n",
    "    return sorted(set([h for h in u.values()]))"
   ]
  },
  {
   "cell_type": "code",
   "execution_count": null,
   "id": "74df5c03",
   "metadata": {},
   "outputs": [],
   "source": []
  }
 ],
 "metadata": {
  "kernelspec": {
   "display_name": "Python 3",
   "language": "python",
   "name": "python3"
  },
  "language_info": {
   "codemirror_mode": {
    "name": "ipython",
    "version": 3
   },
   "file_extension": ".py",
   "mimetype": "text/x-python",
   "name": "python",
   "nbconvert_exporter": "python",
   "pygments_lexer": "ipython3",
   "version": "3.8.10"
  }
 },
 "nbformat": 4,
 "nbformat_minor": 5
}
