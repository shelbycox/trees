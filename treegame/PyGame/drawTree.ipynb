{
 "cells": [
  {
   "cell_type": "markdown",
   "id": "8503245f",
   "metadata": {},
   "source": [
    "# drawTree"
   ]
  },
  {
   "cell_type": "code",
   "execution_count": 1,
   "id": "1602c03e",
   "metadata": {},
   "outputs": [],
   "source": [
    "import tropicalLines as tl"
   ]
  },
  {
   "cell_type": "markdown",
   "id": "196fd4d7",
   "metadata": {},
   "source": [
    "## get_leaf"
   ]
  },
  {
   "cell_type": "code",
   "execution_count": 5,
   "id": "d00982bf",
   "metadata": {},
   "outputs": [],
   "source": [
    "def get_leaf(L):\n",
    "    if type(L) == int:\n",
    "        return L\n",
    "    \n",
    "    for l in L:\n",
    "        if type(l) == int:\n",
    "            return l\n",
    "    \n",
    "    return get_leaf(sum([l for l in L], []))"
   ]
  },
  {
   "cell_type": "markdown",
   "id": "7db8322e",
   "metadata": {},
   "source": [
    "## get_height"
   ]
  },
  {
   "cell_type": "code",
   "execution_count": 6,
   "id": "7fa00456",
   "metadata": {},
   "outputs": [],
   "source": [
    "def get_height(u, structure):\n",
    "    left_vert = get_leaf(structure[0])\n",
    "    right_vert = get_leaf(structure[1])\n",
    "    \n",
    "    return tl.heights(u).index(u[left_vert, right_vert])"
   ]
  },
  {
   "cell_type": "markdown",
   "id": "97f8cd7a",
   "metadata": {},
   "source": [
    "## rec_vertices"
   ]
  },
  {
   "cell_type": "code",
   "execution_count": 8,
   "id": "6c83bc47",
   "metadata": {},
   "outputs": [],
   "source": [
    "def rec_vertices(u, center_x, structure, radius, prev, verts, edges):\n",
    "    ##edge cases: if the current vertex is a leaf\n",
    "    if type(structure) == int or len(structure) == 1:\n",
    "        if type(structure) != int:\n",
    "            structure = structure[0]\n",
    "        curr = (center_x, 0, structure)\n",
    "    \n",
    "        ##record the center vertex at:\n",
    "        verts.append(curr)\n",
    "\n",
    "        ##record a line from the previous to the current vertex\n",
    "        if prev != None:\n",
    "            edges.append((prev, curr))\n",
    "\n",
    "        return verts, edges\n",
    "\n",
    "    else:\n",
    "        ##get the list of branches\n",
    "        branches = structure\n",
    "        \n",
    "        ##get the height of the center vertex\n",
    "        n = max([i for (i,j) in u.keys()])\n",
    "        center_y = 545 - (250/n)*(get_height(u, structure))\n",
    "        if prev == None:\n",
    "            center_y = 545 - 200\n",
    "        curr = (center_x, center_y)\n",
    "    \n",
    "    ##record the center vertex at (center_x, center_y)\n",
    "    verts.append(curr)\n",
    "    \n",
    "    ##record a line from the previous to the current vertex\n",
    "    if prev != None:\n",
    "        edges.append((prev, curr))\n",
    "        \n",
    "    for s in range(len(branches)):\n",
    "        verts, edges = rec_vertices(u, center_x + (- len(branches)/4 + s)*(2*radius/len(branches)), splits[s], radius/len(branches), curr, verts, edges)"
   ]
  },
  {
   "cell_type": "code",
   "execution_count": null,
   "id": "b1eee2e3",
   "metadata": {},
   "outputs": [],
   "source": []
  }
 ],
 "metadata": {
  "kernelspec": {
   "display_name": "Python 3",
   "language": "python",
   "name": "python3"
  },
  "language_info": {
   "codemirror_mode": {
    "name": "ipython",
    "version": 3
   },
   "file_extension": ".py",
   "mimetype": "text/x-python",
   "name": "python",
   "nbconvert_exporter": "python",
   "pygments_lexer": "ipython3",
   "version": "3.8.10"
  }
 },
 "nbformat": 4,
 "nbformat_minor": 5
}
