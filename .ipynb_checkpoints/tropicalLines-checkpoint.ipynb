{
 "cells": [
  {
   "cell_type": "markdown",
   "id": "cf898fe8",
   "metadata": {},
   "source": [
    "# General Notes\n",
    "\n",
    "When we refer to \"trees\" we mean equidistant metric trees, unless otherwise stated."
   ]
  },
  {
   "cell_type": "code",
   "execution_count": 1,
   "id": "700f5cd5",
   "metadata": {},
   "outputs": [],
   "source": [
    "import operator"
   ]
  },
  {
   "cell_type": "markdown",
   "id": "9f93a55e",
   "metadata": {},
   "source": [
    "## normalize_heights\n",
    "\n",
    "### Description\n",
    "\n",
    "Given a list of metric trees *L* and a number *h*, normalize_heights(L,h) returns the list of trees, with all their heights ajusted to be *h*.\n",
    "\n",
    "Specifically, the method finds the current height of the tree and subtracts the difference between the current height and h from each dictionary entry.\n",
    "\n",
    "### Variables\n",
    "\n",
    "*L* is a list of trees, given as a dictionary metrics on their leaves\n",
    "\n",
    "*h* is a number, the height to normalize the trees to\n",
    "\n"
   ]
  },
  {
   "cell_type": "code",
   "execution_count": 1,
   "id": "173ae5c5",
   "metadata": {},
   "outputs": [],
   "source": [
    "def normalize_heights(L, h):\n",
    "    for t in L:\n",
    "        tree_height = max([t[k] for k in t.keys()])\n",
    "        adjust = tree_height - h\n",
    "        for k in t.keys():\n",
    "            t[k] = t[k] - adjust\n",
    "    \n",
    "    return L"
   ]
  },
  {
   "cell_type": "markdown",
   "id": "c883c53e",
   "metadata": {},
   "source": [
    "## get_tropical_line\n",
    "\n",
    "### Description\n",
    "\n",
    "Given two trees *u*, *v*, get_tropical_line(u,v) returns a list of trees (encoded as dictionary metrics on their leaves) which are (in sequence) the possible turning points on the tropical line from *u* to *v* in the space of ultrametrics. There may be repeats.\n",
    "\n",
    "### Variables\n",
    "\n",
    "*u, v* are trees given as a dictionary metric on their leaves."
   ]
  },
  {
   "cell_type": "code",
   "execution_count": 4,
   "id": "a85e4ba1",
   "metadata": {},
   "outputs": [],
   "source": [
    "def get_tropical_line(u, v, recMu=False):\n",
    "    try:\n",
    "        mu = sorted([u[k] - v[k] for k in u.keys()])\n",
    "        L = [u]\n",
    "        for scalar in mu:\n",
    "            if recMu:\n",
    "                L.append(({k : max(scalar + v[k], u[k]) for k in u.keys()}, scalar))\n",
    "            else:\n",
    "                L.append({k : max(scalar + v[k], u[k]) for k in u.keys()})\n",
    "        L.append(v)\n",
    "        return L\n",
    "    \n",
    "    except KeyError:\n",
    "        print('Error: u, v must be trees on the same leaves.')"
   ]
  },
  {
   "cell_type": "markdown",
   "id": "4940bcaa",
   "metadata": {},
   "source": [
    "## argmaxm\n",
    "\n",
    "### Description\n",
    "\n",
    "Returns a list of lists encoding the argmax function on *u*. The argmax function takes an integer *i* and returns the set of pairs of leaves that achieve the *i*th largest distance in the metric. Thus, the *i*th entry of the returned list is argmax{u}{i}.\n",
    "\n",
    "### Variables\n",
    "\n",
    "*u* is a metric dictionary tree on its leaves."
   ]
  },
  {
   "cell_type": "code",
   "execution_count": 2,
   "id": "708c8744",
   "metadata": {},
   "outputs": [],
   "source": [
    "def argmaxm(u):\n",
    "    values = sorted(list(set(u.values())))\n",
    "    return [[k for (k,v) in u.items() if v == values[-i]] for i in range(1,len(values)+1)]"
   ]
  },
  {
   "cell_type": "markdown",
   "id": "ea0f3eb3",
   "metadata": {},
   "source": [
    "## compare_trees\n",
    "\n",
    "### Description\n",
    "\n",
    "Determines if two trees *u*, *v* have the same tree topology. If they have the same tree topology, return True, otherwise return False.\n",
    "\n",
    "### Variables\n",
    "\n",
    "*u,v* are trees given as metric dictionaries on their leaves."
   ]
  },
  {
   "cell_type": "code",
   "execution_count": null,
   "id": "47822aca",
   "metadata": {},
   "outputs": [],
   "source": [
    "def compare_trees(u, v):\n",
    "    u_arg = argmaxm(u)\n",
    "    v_arg = argmaxm(v)\n",
    "\n",
    "    for i in range(len(u_arg)):\n",
    "        try:\n",
    "            if u_arg[i] != v_arg[i]:\n",
    "                return False\n",
    "        except KeyError:\n",
    "            return False"
   ]
  },
  {
   "cell_type": "markdown",
   "id": "7df5c482",
   "metadata": {},
   "source": [
    "## reduce_line\n",
    "\n",
    "### Description\n",
    "\n",
    "### Variables"
   ]
  },
  {
   "cell_type": "code",
   "execution_count": 3,
   "id": "bc80c5bd",
   "metadata": {},
   "outputs": [],
   "source": [
    "def reduce_line(L):\n",
    "    line = L.copy\n",
    "    i = 0\n",
    "    while i < len(line) - 1:\n",
    "        if type(line[0]) == tuple:\n",
    "            ##get to this case if we are recording other information for each tree in the line \n",
    "            if compare_trees(line[i][0], line[i+1][0]):\n",
    "                ##the trees are the same, so remove the first one\n",
    "                line.pop(i)\n",
    "                ##stay on the same index\n",
    "                i = i - 1\n",
    "        ##get to this case if we are just recording the trees in the line, no other info\n",
    "        elif compare_trees(line[i], line[i+1]):\n",
    "            ##the trees are the same, so remove the first one\n",
    "                line.pop(i)\n",
    "                ##stay on the same index\n",
    "                i = i - 1\n",
    "        i = i + 1"
   ]
  },
  {
   "cell_type": "markdown",
   "id": "ebc5e437",
   "metadata": {},
   "source": [
    "## get_line_int\n",
    "\n",
    "### Description\n",
    "\n",
    "### Variables"
   ]
  },
  {
   "cell_type": "code",
   "execution_count": 5,
   "id": "0cbbb272",
   "metadata": {},
   "outputs": [],
   "source": [
    "def get_line_int(u,v):\n",
    "    ##get the reduced tropical line from u to v\n",
    "    line = reduce_line(get_tropical_line(u,v,True))\n",
    "    \n",
    "    mu = [line[0][1]]\n",
    "    for i in range(1,len(line)):\n",
    "        mu.append((line[i][1] + line[i-1][1])/2)\n",
    "        mu.append(line[i][1])\n",
    "    \n",
    "    return [{k : max(m + u[k], v[k]) for k in u.keys()} for m in mu]"
   ]
  },
  {
   "cell_type": "markdown",
   "id": "dc94685f",
   "metadata": {},
   "source": [
    "## print_path\n",
    "\n",
    "### Description\n",
    "\n",
    "### Variables"
   ]
  },
  {
   "cell_type": "code",
   "execution_count": null,
   "id": "6677ea24",
   "metadata": {},
   "outputs": [],
   "source": [
    "def print_path(u,v):\n",
    "    line = reduce_line(get_tropical_line(u,v))\n",
    "    for T in line:\n",
    "        print(recTreeParen(T, list(set([i for (i,j) in T.keys()]))))"
   ]
  }
 ],
 "metadata": {
  "kernelspec": {
   "display_name": "Python 3",
   "language": "python",
   "name": "python3"
  },
  "language_info": {
   "codemirror_mode": {
    "name": "ipython",
    "version": 3
   },
   "file_extension": ".py",
   "mimetype": "text/x-python",
   "name": "python",
   "nbconvert_exporter": "python",
   "pygments_lexer": "ipython3",
   "version": "3.8.10"
  }
 },
 "nbformat": 4,
 "nbformat_minor": 5
}
